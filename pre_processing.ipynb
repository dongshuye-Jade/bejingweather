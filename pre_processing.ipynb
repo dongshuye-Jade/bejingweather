{
 "cells": [
  {
   "cell_type": "code",
   "execution_count": 1,
   "metadata": {
    "collapsed": true
   },
   "outputs": [],
   "source": [
    "# import 包\n",
    "import pandas as pd"
   ]
  },
  {
   "cell_type": "code",
   "execution_count": 2,
   "metadata": {
    "collapsed": true
   },
   "outputs": [],
   "source": [
    "# 读取数据\n",
    "df = pd.read_excel('D:\\\\Python_lover\\\\weather\\\\2016_2017_weather.xlsx',encoding='gbk')"
   ]
  },
  {
   "cell_type": "code",
   "execution_count": 3,
   "metadata": {
    "collapsed": true
   },
   "outputs": [],
   "source": [
    "# 因变量\n",
    "y = df['空气质量指数']"
   ]
  },
  {
   "cell_type": "code",
   "execution_count": 4,
   "metadata": {
    "collapsed": true
   },
   "outputs": [],
   "source": [
    "# 将星期转变为亚变量；其中星期一为基础变量\n",
    "x_week = pd.get_dummies(df['星期'])"
   ]
  },
  {
   "cell_type": "code",
   "execution_count": 5,
   "metadata": {
    "collapsed": true
   },
   "outputs": [],
   "source": [
    "# 将最低、最高气温进行转变\n",
    "def tem2int(a):\n",
    "    a = list(a)\n",
    "    a.pop()\n",
    "    return int(\"\".join(a))\n",
    "df['最高'] = df['最高'].apply(tem2int)\n",
    "df['最低'] = df['最低'].apply(tem2int)"
   ]
  },
  {
   "cell_type": "code",
   "execution_count": 6,
   "metadata": {
    "collapsed": true
   },
   "outputs": [],
   "source": [
    "# 将天气情况转变为亚变量,晴为基础变量\n",
    "weather_list = ['晴','多云','阴','小雨','中雨','小到中雨','雾','阵雨','雷阵雨','中到大雨'\n",
    "               ,'大雨','扬沙','雨夹雪','小雪','霾','雾','大雪','暴雨','大到暴雨']\n",
    "wea = pd.DataFrame()\n",
    "def weather2num(w):\n",
    "    if a in w:\n",
    "        return 1\n",
    "    return 0\n",
    "for a in weather_list:\n",
    "    wea[a] = df['天气'].apply(weather2num)\n",
    "wea.loc[df['天气']=='晴','晴'] = 0"
   ]
  },
  {
   "cell_type": "code",
   "execution_count": 7,
   "metadata": {
    "collapsed": true
   },
   "outputs": [],
   "source": [
    "# 将风向转变为亚变量；其中无持续为基础变量\n",
    "fengxiang = pd.get_dummies(df['风向'])\n",
    "del fengxiang['无持续']"
   ]
  },
  {
   "cell_type": "code",
   "execution_count": 8,
   "metadata": {
    "collapsed": true
   },
   "outputs": [],
   "source": [
    "# 将风力进行数字的转换\n",
    "fengli_dic = {'1-2级':2, '3-4级':3, '4-5级':4, '5-6级':5, '向3-4级':3, '向4-5级':4, '微':1}\n",
    "df['风力'] = df['风力'].map(fengli_dic)\n",
    "df['风力'] = df['风力'].fillna(0)"
   ]
  },
  {
   "cell_type": "code",
   "execution_count": 9,
   "metadata": {
    "collapsed": true
   },
   "outputs": [],
   "source": [
    "# 空气污染情况进行等级的转换\n",
    "wuran_dic = {'良':2, '中度污染':4, '优':1, '轻度污染':3, '重度污染':5, '严重污染':6}\n",
    "df['污染情况'] = df['污染情况'].map(wuran_dic)"
   ]
  },
  {
   "cell_type": "code",
   "execution_count": 10,
   "metadata": {
    "collapsed": true
   },
   "outputs": [],
   "source": [
    "# 最后将数据进行组合\n",
    "df_new=pd.concat([df['时间'], x_week,df['最高'],df['最低'],wea,fengxiang, df['风力'], df['污染情况'],y],axis=1)"
   ]
  },
  {
   "cell_type": "code",
   "execution_count": 11,
   "metadata": {
    "collapsed": true
   },
   "outputs": [],
   "source": [
    "# 并进行重命名\n",
    "name_dict = {'时间':'date','星期一':'Monday','星期一':'Monday', '星期二':'Tuesday', '星期三':'Wednesday', '星期四':'Thursday', '星期五':'Friday',\n",
    "            '星期六':'Saturday','星期日':'Sunday', '最高':'high','最低':'low','晴':'qing','多云':'duoyun','阴':'yin','小雨':'xiaoyu','中雨':'zhongyu',\n",
    "             '小到中雨':'xiaodaozhong','雾':'wu','阵雨':'zhenyu','雷阵雨':'leizhenyu','中到大雨':'zhongdaoda'\n",
    "               ,'大雨':'dayu','扬沙':'yansha','雨夹雪':'yujiaxue','小雪':'xiaoxue','霾':'mai','大雪':'daxue','暴雨':'baoyu','大到暴雨':'dadaobao',\n",
    "             '东':'dong', '东北':'dongbei', '东南':'dongnan', '北':'bei', '南':'nan', '西':'xi', '西北':'xibei', '西南':'xinan'\n",
    "             ,'风力':'fengli','污染情况':'wuran','空气质量指数':'zhishu'}\n",
    "df_new.rename(columns=name_dict,inplace=True)"
   ]
  },
  {
   "cell_type": "code",
   "execution_count": 12,
   "metadata": {
    "collapsed": true
   },
   "outputs": [],
   "source": [
    "df_new.to_csv('D:\\\\Python_lover\\\\weather\\\\2016_2017_weather_n.csv',index = False)\n"
   ]
  },
  {
   "cell_type": "code",
   "execution_count": null,
   "metadata": {
    "collapsed": true
   },
   "outputs": [],
   "source": []
  }
 ],
 "metadata": {
  "kernelspec": {
   "display_name": "Python 3",
   "language": "python",
   "name": "python3"
  },
  "language_info": {
   "codemirror_mode": {
    "name": "ipython",
    "version": 3
   },
   "file_extension": ".py",
   "mimetype": "text/x-python",
   "name": "python",
   "nbconvert_exporter": "python",
   "pygments_lexer": "ipython3",
   "version": "3.6.1"
  }
 },
 "nbformat": 4,
 "nbformat_minor": 2
}
